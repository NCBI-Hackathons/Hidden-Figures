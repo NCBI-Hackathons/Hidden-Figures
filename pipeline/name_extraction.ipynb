{
 "cells": [
  {
   "cell_type": "code",
   "execution_count": 1,
   "metadata": {},
   "outputs": [],
   "source": [
    "import os\n",
    "import numpy as np\n",
    "import spacy as sp\n",
    "import pandas as pd\n",
    "from bs4 import BeautifulSoup\n",
    "from spacy import displacy\n",
    "    \n",
    "#The 'xx' dataset is the biggest multilanguage one.  We found it to be more reliable in detecting forign names than the english models    \n",
    "nlp = sp.load('xx')\n"
   ]
  },
  {
   "cell_type": "code",
   "execution_count": 2,
   "metadata": {
    "scrolled": true
   },
   "outputs": [
    {
     "name": "stdout",
     "output_type": "stream",
     "text": [
      "AcknowledgmentsThe project was supported by a start-up funding provided to the author by the Department of Neurology of the University of Utah.This project was inspired by studying the work of Dr. Ed Dudek and the results of the initial experiments were discussed with him.I am also grateful to Dr. Erika Scholl for her assistance in measuring rat serum osmolarity and to Dr. Noel Carlson for his insightful comments on the manuscript.\n",
      "AcknowledgmentsThe 0 18 MISC\n",
      "Department of Neurology 93 116 ORG\n",
      "University of Utah 124 142 ORG\n",
      "Ed Dudek 197 205 PER\n",
      "Erika Scholl 299 311 PER\n",
      "Noel Carlson 376 388 PER\n"
     ]
    }
   ],
   "source": [
    "\n",
    "\n",
    "sample = '<ack><title>Acknowledgements</title><p>The authors wish to acknowledge Diya Ma, Matthew-Lun Wong, Ka-Long Ko, Ka-Hei Ko and Jin-Peng Lee for their important contributions to the software development.</p><sec id=\"\"FPar1\"\"><title>Funding</title><p id=\"\"Par28\"\">The work described in this paper was supported by a grant from the Research Grants Council of the Hong Kong Special Administrative Region, China (Project No.: CUHK 14113214), grants from the Innovation and Technology Commission (Project No: ITS/149/14FP, GHP/028/14SZ, ITS/293/14FP), grants from CUHK Technology and Business Development Fund (Project No.: TBF16MED002, TBF16MED004), a grant from The Science, Technology and Innovation Commission of Shenzhen Municipality (Project No.: CXZZ20140606164105361), and a grant from The Scientific Research Project of Guangdong Province (Project No.: 2014B090901055).</p></sec></ack>'\n",
    "sample2 = '<ack id=\"\"ack0010\"\"><title>Acknowledgements</title><p>The authors thank Dr. R Kaneko for the gift of the iSip2 vector; and Mss. T Honma, K Harada, A Morita, and Y Shimoda for providing technical and secretarial assistance. We thank the staff at the Department of Genetic and Behavioral Neuroscience and Bioresource Center, Gunma University Graduate School of Medicine for their critical comments and technical assistance. This study was supported by <funding-source id=\"\"gs1\"\">Grants-in-Aid for Scientific Research</funding-source> (23115503, 26290002, 15H01415 and 15H05872 to Y.Y.), a Grant-in-Aid for Scientific Research on Innovative Areas (Comprehensive Brain Science Network) (to Y.Y.) from the <funding-source id=\"\"gs2\"\">Ministry of Education, Culture, Sports, Science and Technology (MEXT)</funding-source> of Japan, a grant from the Co-operative Study Program of the <funding-source id=\"\"gs3\"\">National Institute for Physiological Sciences</funding-source>, Japan (to Y.Y.), and a grant from the <funding-source id=\"\"gs4\"\">Takeda Science Foundation</funding-source> (to Y.Y.).</p></ack>'\n",
    "sample = '<ack id=\"\"ack0005\"\"><title>Acknowledgments</title><p>The project was supported by a start-up funding provided to the author by the <funding-source id=\"\"gs0005\"\">Department of Neurology of the University of Utah</funding-source>.</p><p>This project was inspired by studying the work of Dr. Ed Dudek and the results of the initial experiments were discussed with him.</p><p>I am also grateful to Dr. Erika Scholl for her assistance in measuring rat serum osmolarity and to Dr. Noel Carlson for his insightful comments on the manuscript.</p></ack>'\n",
    "\n",
    "soup = BeautifulSoup(sample,'lxml')\n",
    "\n",
    "samp_txt = soup.find_all('ack')[0].get_text()\n",
    "\n",
    "print(samp_txt)\n",
    "\n",
    "doc = nlp(samp_txt)\n",
    "\n",
    "for ent in doc.ents:\n",
    "    print(ent.text, ent.start_char, ent.end_char, ent.label_)"
   ]
  },
  {
   "cell_type": "code",
   "execution_count": 17,
   "metadata": {},
   "outputs": [
    {
     "name": "stdout",
     "output_type": "stream",
     "text": [
      "done\n"
     ]
    }
   ],
   "source": [
    "#read in dataset, parse a hundred or so entries\n",
    "df = pd.read_csv('~/HackathonData/extracted/articles.I-N.xml.tar.gz.csv')\n",
    "\n",
    "newdf = df[:100]\n",
    "\n",
    "#df.insert(idx, col_name, value)\n",
    "namestrs=[]\n",
    "for row in df['Acknowledgment_Tag'][:100]:\n",
    "    if not isinstance(row,str): row = '<ack></ack>'\n",
    "    soup = BeautifulSoup(row,'lxml')\n",
    "\n",
    "    samp_txt = soup.find_all('ack')[0].get_text()\n",
    "\n",
    "    doc = nlp(samp_txt)\n",
    "\n",
    "    #for ent in doc.ents:\n",
    "    #    if ent.label_ == 'PER' and len(ent.text.split(' ')) > 1:\n",
    "    namestr = ';'.join([ ent.text for ent in doc.ents if ent.label_ == 'PER' and len(ent.text.split(' ')) > 1 ])\n",
    "    #print (namestr)\n",
    "    namestrs.append(namestr)\n",
    "\n",
    "newdf.insert(2, 'Names', namestrs)\n",
    "newdf.to_csv('Extracted Names.csv')\n",
    "print('done')"
   ]
  },
  {
   "cell_type": "code",
   "execution_count": null,
   "metadata": {},
   "outputs": [],
   "source": []
  },
  {
   "cell_type": "code",
   "execution_count": null,
   "metadata": {},
   "outputs": [],
   "source": []
  },
  {
   "cell_type": "code",
   "execution_count": null,
   "metadata": {},
   "outputs": [],
   "source": []
  }
 ],
 "metadata": {
  "kernelspec": {
   "display_name": "Python 3",
   "language": "python",
   "name": "python3"
  },
  "language_info": {
   "codemirror_mode": {
    "name": "ipython",
    "version": 3
   },
   "file_extension": ".py",
   "mimetype": "text/x-python",
   "name": "python",
   "nbconvert_exporter": "python",
   "pygments_lexer": "ipython3",
   "version": "3.5.2"
  }
 },
 "nbformat": 4,
 "nbformat_minor": 2
}
