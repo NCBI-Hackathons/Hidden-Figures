{
 "cells": [
  {
   "cell_type": "code",
   "execution_count": 85,
   "metadata": {},
   "outputs": [
    {
     "name": "stdout",
     "output_type": "stream",
     "text": [
      "(1035957, 7)\n"
     ]
    },
    {
     "ename": "KeyboardInterrupt",
     "evalue": "",
     "output_type": "error",
     "traceback": [
      "\u001b[0;31m---------------------------------------------------------------------------\u001b[0m",
      "\u001b[0;31mKeyboardInterrupt\u001b[0m                         Traceback (most recent call last)",
      "\u001b[0;32m<ipython-input-85-398782fae1c9>\u001b[0m in \u001b[0;36m<module>\u001b[0;34m()\u001b[0m\n\u001b[1;32m     60\u001b[0m \u001b[0;31m#print (Counter(allwords).values())\u001b[0m\u001b[0;34m\u001b[0m\u001b[0;34m\u001b[0m\u001b[0m\n\u001b[1;32m     61\u001b[0m \u001b[0;32mfor\u001b[0m \u001b[0mk\u001b[0m \u001b[0;32min\u001b[0m \u001b[0mworddict\u001b[0m\u001b[0;34m:\u001b[0m\u001b[0;34m\u001b[0m\u001b[0m\n\u001b[0;32m---> 62\u001b[0;31m     \u001b[0mval\u001b[0m \u001b[0;34m=\u001b[0m \u001b[0mword_gender\u001b[0m\u001b[0;34m(\u001b[0m\u001b[0mk\u001b[0m\u001b[0;34m)\u001b[0m\u001b[0;34m\u001b[0m\u001b[0m\n\u001b[0m\u001b[1;32m     63\u001b[0m     \u001b[0;32mif\u001b[0m \u001b[0mval\u001b[0m \u001b[0;34m<\u001b[0m \u001b[0;36m50\u001b[0m\u001b[0;34m:\u001b[0m \u001b[0;32mcontinue\u001b[0m\u001b[0;34m\u001b[0m\u001b[0m\n\u001b[1;32m     64\u001b[0m     \u001b[0mgen_val\u001b[0m \u001b[0;34m=\u001b[0m \u001b[0;36m2\u001b[0m\u001b[0;34m*\u001b[0m\u001b[0mnp\u001b[0m\u001b[0;34m.\u001b[0m\u001b[0mabs\u001b[0m\u001b[0;34m(\u001b[0m\u001b[0mval\u001b[0m\u001b[0;34m-\u001b[0m\u001b[0;36m0.5\u001b[0m\u001b[0;34m)\u001b[0m\u001b[0;34m\u001b[0m\u001b[0m\n",
      "\u001b[0;32m<ipython-input-85-398782fae1c9>\u001b[0m in \u001b[0;36mword_gender\u001b[0;34m(word)\u001b[0m\n\u001b[1;32m     31\u001b[0m \u001b[0;32mdef\u001b[0m \u001b[0mword_gender\u001b[0m\u001b[0;34m(\u001b[0m\u001b[0mword\u001b[0m\u001b[0;34m)\u001b[0m\u001b[0;34m:\u001b[0m\u001b[0;34m\u001b[0m\u001b[0m\n\u001b[1;32m     32\u001b[0m     \u001b[0;32mif\u001b[0m \u001b[0mword\u001b[0m\u001b[0;34m==\u001b[0m\u001b[0;34m'authors assistance'\u001b[0m\u001b[0;34m:\u001b[0m\u001b[0mword\u001b[0m \u001b[0;34m=\u001b[0m \u001b[0;34m\"author's assistance\"\u001b[0m\u001b[0;34m\u001b[0m\u001b[0m\n\u001b[0;32m---> 33\u001b[0;31m     \u001b[0muses\u001b[0m \u001b[0;34m=\u001b[0m \u001b[0msg_df\u001b[0m\u001b[0;34m[\u001b[0m\u001b[0;34m'Is Female (Weighted)'\u001b[0m\u001b[0;34m]\u001b[0m\u001b[0;34m[\u001b[0m \u001b[0;34m[\u001b[0m\u001b[0misinstance\u001b[0m\u001b[0;34m(\u001b[0m\u001b[0mn\u001b[0m\u001b[0;34m,\u001b[0m\u001b[0mstr\u001b[0m\u001b[0;34m)\u001b[0m \u001b[0;32mand\u001b[0m \u001b[0mword\u001b[0m \u001b[0;32min\u001b[0m \u001b[0mn\u001b[0m \u001b[0;32mfor\u001b[0m \u001b[0mn\u001b[0m \u001b[0;32min\u001b[0m \u001b[0msg_df\u001b[0m\u001b[0;34m[\u001b[0m\u001b[0;34m'Nouns'\u001b[0m\u001b[0;34m]\u001b[0m \u001b[0;34m]\u001b[0m \u001b[0;34m]\u001b[0m\u001b[0;34m\u001b[0m\u001b[0m\n\u001b[0m\u001b[1;32m     34\u001b[0m     \u001b[0;31m#print (word, uses)\u001b[0m\u001b[0;34m\u001b[0m\u001b[0;34m\u001b[0m\u001b[0m\n\u001b[1;32m     35\u001b[0m     \u001b[0mavgen\u001b[0m \u001b[0;34m=\u001b[0m \u001b[0msg_df\u001b[0m\u001b[0;34m[\u001b[0m\u001b[0;34m'Is Female (Weighted)'\u001b[0m\u001b[0;34m]\u001b[0m\u001b[0;34m.\u001b[0m\u001b[0mmean\u001b[0m\u001b[0;34m(\u001b[0m\u001b[0;34m)\u001b[0m\u001b[0;34m\u001b[0m\u001b[0m\n",
      "\u001b[0;32m<ipython-input-85-398782fae1c9>\u001b[0m in \u001b[0;36m<listcomp>\u001b[0;34m(.0)\u001b[0m\n\u001b[1;32m     31\u001b[0m \u001b[0;32mdef\u001b[0m \u001b[0mword_gender\u001b[0m\u001b[0;34m(\u001b[0m\u001b[0mword\u001b[0m\u001b[0;34m)\u001b[0m\u001b[0;34m:\u001b[0m\u001b[0;34m\u001b[0m\u001b[0m\n\u001b[1;32m     32\u001b[0m     \u001b[0;32mif\u001b[0m \u001b[0mword\u001b[0m\u001b[0;34m==\u001b[0m\u001b[0;34m'authors assistance'\u001b[0m\u001b[0;34m:\u001b[0m\u001b[0mword\u001b[0m \u001b[0;34m=\u001b[0m \u001b[0;34m\"author's assistance\"\u001b[0m\u001b[0;34m\u001b[0m\u001b[0m\n\u001b[0;32m---> 33\u001b[0;31m     \u001b[0muses\u001b[0m \u001b[0;34m=\u001b[0m \u001b[0msg_df\u001b[0m\u001b[0;34m[\u001b[0m\u001b[0;34m'Is Female (Weighted)'\u001b[0m\u001b[0;34m]\u001b[0m\u001b[0;34m[\u001b[0m \u001b[0;34m[\u001b[0m\u001b[0misinstance\u001b[0m\u001b[0;34m(\u001b[0m\u001b[0mn\u001b[0m\u001b[0;34m,\u001b[0m\u001b[0mstr\u001b[0m\u001b[0;34m)\u001b[0m \u001b[0;32mand\u001b[0m \u001b[0mword\u001b[0m \u001b[0;32min\u001b[0m \u001b[0mn\u001b[0m \u001b[0;32mfor\u001b[0m \u001b[0mn\u001b[0m \u001b[0;32min\u001b[0m \u001b[0msg_df\u001b[0m\u001b[0;34m[\u001b[0m\u001b[0;34m'Nouns'\u001b[0m\u001b[0;34m]\u001b[0m \u001b[0;34m]\u001b[0m \u001b[0;34m]\u001b[0m\u001b[0;34m\u001b[0m\u001b[0m\n\u001b[0m\u001b[1;32m     34\u001b[0m     \u001b[0;31m#print (word, uses)\u001b[0m\u001b[0;34m\u001b[0m\u001b[0;34m\u001b[0m\u001b[0m\n\u001b[1;32m     35\u001b[0m     \u001b[0mavgen\u001b[0m \u001b[0;34m=\u001b[0m \u001b[0msg_df\u001b[0m\u001b[0;34m[\u001b[0m\u001b[0;34m'Is Female (Weighted)'\u001b[0m\u001b[0;34m]\u001b[0m\u001b[0;34m.\u001b[0m\u001b[0mmean\u001b[0m\u001b[0;34m(\u001b[0m\u001b[0;34m)\u001b[0m\u001b[0;34m\u001b[0m\u001b[0m\n",
      "\u001b[0;31mKeyboardInterrupt\u001b[0m: "
     ]
    }
   ],
   "source": [
    "import os\n",
    "from collections import Counter\n",
    "\n",
    "import pandas as pd\n",
    "import numpy as np\n",
    "from wordcloud import WordCloud\n",
    "import matplotlib.pyplot as plt\n",
    "\n",
    "f_read = os.path.join(\"../parsed_data/sentence_parse/\",\n",
    "                          'gendered_sentences.csv')\n",
    "df = pd.read_csv(f_read)\n",
    "\n",
    "print(df.shape)\n",
    "\n",
    "#filter out rows we don't want\n",
    "#no NaNs - at least one good name\n",
    "df = df[np.invert( np.isnan(df['Is Female (Weighted)']))]\n",
    "#no empty lines (should have been filtered out by the above, these must be 'extra' rows caused by newlines in text string, I didn't know pandas would do that)\n",
    "df = df[[isinstance(n,str) for n in df['Names']]] \n",
    "# Only rows with one name\n",
    "sg_df = df[[';' not in n for n in df['Names']]] \n",
    "\n",
    "#print(sg_df.shape)\n",
    "#print (sg_df[2:3])\n",
    "\n",
    "#output file\n",
    "f_save = os.path.join(\"../parsed_data/sentence_parse/\",\n",
    "                          'sample_single_gendered_sentences.csv')\n",
    "sg_df.to_csv(f_save)\n",
    "\n",
    "def word_gender(word):\n",
    "    if word=='authors assistance':word = \"author's assistance\" \n",
    "    uses = sg_df['Is Female (Weighted)'][ [isinstance(n,str) and word in n for n in sg_df['Nouns'] ] ]\n",
    "    #print (word, uses)\n",
    "    avgen = sg_df['Is Female (Weighted)'].mean()\n",
    "    if not len(uses): \n",
    "        val= avgen\n",
    "    else: \n",
    "        val = np.array(uses).mean()\n",
    "    valdiff = val-avgen\n",
    "    if valdiff >= 0:\n",
    "        #print(val,avgen,0.5*(1 + valdiff/avgen))\n",
    "        outval = 0.5 + valdiff*avgen/0.5\n",
    "    else:\n",
    "        outval = 0.5 + valdiff*0.5/avgen\n",
    "    #print(word,val,outval)\n",
    "    return outval\n",
    "        \n",
    "    #normalize to countract average gender disparity\n",
    "\n",
    "\n",
    "\n",
    "allwords = []\n",
    "for n in sg_df['Nouns']:\n",
    "    if isinstance(n,str):\n",
    "        allwords.extend(n.split(';'))\n",
    "    \n",
    "worddict = Counter(allwords)    \n",
    "#print (Counter(allwords).keys())\n",
    "#print (Counter(allwords).values())\n",
    "for k in worddict:\n",
    "    if worddict[k] < 50: continue\n",
    "    val = word_gender(k)\n",
    "    gen_val = 2*np.abs(val-0.5)\n",
    "    print(k,worddict[k],val,worddict[k]*gen_val)\n",
    "    worddict[k] = worddict[k]*gen_val\n",
    "    \n",
    "\n",
    "print(sg_df['Is Female (Weighted)'].mean())\n",
    "\n",
    "\n",
    "\n",
    "print(word_gender('assistance'))\n",
    "\n",
    "def gender_color_func(word, font_size, position, orientation, random_state=None,\n",
    "                    **kwargs):\n",
    "    gender = word_gender(word)\n",
    "    gender = int(255*gender)\n",
    "    #print (word,gender)\n",
    "    return (256-gender,gender,256-gender)#\"hsl(0, 0%%, %d%%)\" % random.randint(60, 100)\n",
    "\n",
    "wordcloud = WordCloud(background_color='white',width=600,height=400).generate_from_frequencies(worddict)\n",
    "wordcloud.recolor(color_func=gender_color_func)\n",
    "plt.imshow(wordcloud, interpolation='bilinear')\n",
    "plt.axis(\"off\")"
   ]
  },
  {
   "cell_type": "code",
   "execution_count": null,
   "metadata": {},
   "outputs": [],
   "source": []
  }
 ],
 "metadata": {
  "kernelspec": {
   "display_name": "Python 3",
   "language": "python",
   "name": "python3"
  },
  "language_info": {
   "codemirror_mode": {
    "name": "ipython",
    "version": 3
   },
   "file_extension": ".py",
   "mimetype": "text/x-python",
   "name": "python",
   "nbconvert_exporter": "python",
   "pygments_lexer": "ipython3",
   "version": "3.6.0"
  }
 },
 "nbformat": 4,
 "nbformat_minor": 2
}
