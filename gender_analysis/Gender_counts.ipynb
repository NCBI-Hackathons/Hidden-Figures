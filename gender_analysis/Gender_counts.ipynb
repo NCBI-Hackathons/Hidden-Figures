{
 "cells": [
  {
   "cell_type": "code",
   "execution_count": 1,
   "metadata": {},
   "outputs": [],
   "source": [
    "import pandas as pd\n",
    "import string, glob, os\n",
    "from tqdm import tqdm"
   ]
  },
  {
   "cell_type": "code",
   "execution_count": 76,
   "metadata": {},
   "outputs": [],
   "source": [
    "# Load the genderize data\n",
    "genderize = pd.read_csv(\"../source_data/genderizer_collected.csv\").set_index('name')\n",
    "genderize.head()\n",
    "known_names = set(genderize.index.values)"
   ]
  },
  {
   "cell_type": "code",
   "execution_count": 3,
   "metadata": {},
   "outputs": [],
   "source": [
    "def parse_df(df):\n",
    "    lets = set(string.ascii_letters+\"- .\")\n",
    "    data = []\n",
    "    for f, names in tqdm(zip(df.index, df.Names), total=len(df)):\n",
    "        if type(names) == float:\n",
    "            continue\n",
    "            \n",
    "        for name in names.split(';'):\n",
    "            if not all([a in lets for a in name]):\n",
    "                continue\n",
    "            if not name.strip():\n",
    "                continue\n",
    "            \n",
    "            first_name = name.split().pop()\n",
    "            if first_name not in known_names:\n",
    "                continue\n",
    "\n",
    "            x = genderize.loc[first_name]\n",
    "            item = {\"filename\":f}\n",
    "            item[\"first_name\"] = first_name\n",
    "            item[\"gcount\"] = x[\"count\"]\n",
    "            item[\"ggender\"] = x[\"gender\"]\n",
    "            item[\"gprobability\"] = x[\"probability\"]\n",
    "\n",
    "            data.append(item)\n",
    "\n",
    "    data = pd.DataFrame(data).dropna()\n",
    "    return data"
   ]
  },
  {
   "cell_type": "code",
   "execution_count": 4,
   "metadata": {},
   "outputs": [
    {
     "name": "stderr",
     "output_type": "stream",
     "text": [
      "100%|██████████| 20/20 [00:00<00:00, 1074.26it/s]\n"
     ]
    },
    {
     "data": {
      "text/html": [
       "<div>\n",
       "<style scoped>\n",
       "    .dataframe tbody tr th:only-of-type {\n",
       "        vertical-align: middle;\n",
       "    }\n",
       "\n",
       "    .dataframe tbody tr th {\n",
       "        vertical-align: top;\n",
       "    }\n",
       "\n",
       "    .dataframe thead th {\n",
       "        text-align: right;\n",
       "    }\n",
       "</style>\n",
       "<table border=\"1\" class=\"dataframe\">\n",
       "  <thead>\n",
       "    <tr style=\"text-align: right;\">\n",
       "      <th></th>\n",
       "      <th>filename</th>\n",
       "      <th>first_name</th>\n",
       "      <th>gcount</th>\n",
       "      <th>ggender</th>\n",
       "      <th>gprobability</th>\n",
       "    </tr>\n",
       "  </thead>\n",
       "  <tbody>\n",
       "    <tr>\n",
       "      <th>0</th>\n",
       "      <td>20_Century_Br_Hist/PMC4804230.nxml</td>\n",
       "      <td>Thomson</td>\n",
       "      <td>7.0</td>\n",
       "      <td>male</td>\n",
       "      <td>1.00</td>\n",
       "    </tr>\n",
       "    <tr>\n",
       "      <th>1</th>\n",
       "      <td>20_Century_Br_Hist/PMC5905639.nxml</td>\n",
       "      <td>Thomson</td>\n",
       "      <td>7.0</td>\n",
       "      <td>male</td>\n",
       "      <td>1.00</td>\n",
       "    </tr>\n",
       "    <tr>\n",
       "      <th>2</th>\n",
       "      <td>3D_Print_Med/PMC5954789.nxml</td>\n",
       "      <td>Wong</td>\n",
       "      <td>215.0</td>\n",
       "      <td>female</td>\n",
       "      <td>0.50</td>\n",
       "    </tr>\n",
       "    <tr>\n",
       "      <th>3</th>\n",
       "      <td>3D_Print_Med/PMC5954789.nxml</td>\n",
       "      <td>Lee</td>\n",
       "      <td>2089.0</td>\n",
       "      <td>male</td>\n",
       "      <td>0.75</td>\n",
       "    </tr>\n",
       "    <tr>\n",
       "      <th>4</th>\n",
       "      <td>3D_Print_Med/PMC5954790.nxml</td>\n",
       "      <td>Smith</td>\n",
       "      <td>28.0</td>\n",
       "      <td>male</td>\n",
       "      <td>0.68</td>\n",
       "    </tr>\n",
       "  </tbody>\n",
       "</table>\n",
       "</div>"
      ],
      "text/plain": [
       "                             filename first_name  gcount ggender  gprobability\n",
       "0  20_Century_Br_Hist/PMC4804230.nxml    Thomson     7.0    male          1.00\n",
       "1  20_Century_Br_Hist/PMC5905639.nxml    Thomson     7.0    male          1.00\n",
       "2        3D_Print_Med/PMC5954789.nxml       Wong   215.0  female          0.50\n",
       "3        3D_Print_Med/PMC5954789.nxml        Lee  2089.0    male          0.75\n",
       "4        3D_Print_Med/PMC5954790.nxml      Smith    28.0    male          0.68"
      ]
     },
     "execution_count": 4,
     "metadata": {},
     "output_type": "execute_result"
    }
   ],
   "source": [
    "# Load the names from PMC ack\n",
    "df = pd.read_csv(\"../parsed_data/Extracted Names A-B.csv\", nrows=20,usecols=[\"filename\",\"Names\"]).set_index(\"filename\")\n",
    "df[\"Names\"].fillna(\"\",inplace=True)\n",
    "\n",
    "data = parse_df(df)\n",
    "data.head()"
   ]
  },
  {
   "cell_type": "code",
   "execution_count": 5,
   "metadata": {},
   "outputs": [
    {
     "name": "stderr",
     "output_type": "stream",
     "text": [
      "100%|██████████| 464167/464167 [00:30<00:00, 15238.62it/s]\n"
     ]
    },
    {
     "name": "stdout",
     "output_type": "stream",
     "text": [
      "                       filename first_name  gcount ggender  gprobability\n",
      "0       CALPHAD/PMC4270480.nxml    Ganesan     4.0    male          1.00\n",
      "1  CASE_(Phila)/PMC6058275.nxml      Singh    19.0    male          0.79\n",
      "2  CASE_(Phila)/PMC6058275.nxml      Cohen     6.0  female          0.50\n",
      "3  CASE_(Phila)/PMC6058300.nxml     Miller    31.0    male          0.84\n",
      "4  CASE_(Phila)/PMC6058953.nxml  Takahashi     2.0  female          1.00\n"
     ]
    },
    {
     "name": "stderr",
     "output_type": "stream",
     "text": [
      "100%|██████████| 653444/653444 [00:47<00:00, 13650.77it/s]\n"
     ]
    },
    {
     "name": "stdout",
     "output_type": "stream",
     "text": [
      "                   filename first_name  gcount ggender  gprobability\n",
      "0  IBRO_Rep/PMC6084867.nxml       Maya   427.0  female          0.97\n",
      "1  IBRO_Rep/PMC6084822.nxml    Carlson     1.0    male          1.00\n",
      "2  IBRO_Rep/PMC5289700.nxml     Hassan   612.0    male          0.99\n",
      "3  IBRO_Rep/PMC5289700.nxml       Wang    54.0    male          0.74\n",
      "4  IBRO_Rep/PMC6084913.nxml     Suzuki     2.0  female          0.50\n"
     ]
    },
    {
     "name": "stderr",
     "output_type": "stream",
     "text": [
      "100%|██████████| 610080/610080 [01:06<00:00, 9190.47it/s]\n"
     ]
    },
    {
     "name": "stdout",
     "output_type": "stream",
     "text": [
      "                       filename first_name  gcount ggender  gprobability\n",
      "0  Obere_Extrem/PMC5579070.nxml    Chapman    10.0    male          1.00\n",
      "1    Obes_Facts/PMC5644672.nxml       Jess  1010.0  female          0.91\n",
      "4    Obes_Facts/PMC5644860.nxml      Roman   449.0    male          1.00\n",
      "5    Obes_Facts/PMC5644847.nxml       Dick   163.0    male          0.99\n",
      "6    Obes_Facts/PMC5644847.nxml       Reha     4.0    male          1.00\n"
     ]
    },
    {
     "name": "stderr",
     "output_type": "stream",
     "text": [
      "100%|██████████| 378845/378845 [00:36<00:00, 10272.19it/s]\n"
     ]
    },
    {
     "name": "stdout",
     "output_type": "stream",
     "text": [
      "                             filename first_name  gcount ggender  gprobability\n",
      "0  20_Century_Br_Hist/PMC4804230.nxml    Thomson     7.0    male          1.00\n",
      "1  20_Century_Br_Hist/PMC5905639.nxml    Thomson     7.0    male          1.00\n",
      "2        3D_Print_Med/PMC5954789.nxml       Wong   215.0  female          0.50\n",
      "3        3D_Print_Med/PMC5954789.nxml        Lee  2089.0    male          0.75\n",
      "4        3D_Print_Med/PMC5954790.nxml      Smith    28.0    male          0.68\n"
     ]
    }
   ],
   "source": [
    "F_CSV = glob.glob(\"../parsed_data/Extracted Names*.csv\")\n",
    "save_dest = \"parsed_gender_data\"\n",
    "os.system(f'mkdir -p {save_dest}')\n",
    "\n",
    "for f in F_CSV:\n",
    "    df = pd.read_csv(f, \n",
    "                     nrows=10**20,\n",
    "                     usecols=[\"filename\",\"Names\"]).set_index(\"filename\")\n",
    "    df[\"Names\"].fillna(\"\",inplace=True)\n",
    "    data = parse_df(df)\n",
    "    \n",
    "    f_csv = os.path.join(save_dest, os.path.basename(f))\n",
    "    print(data.head())\n",
    "    data.to_csv(f_csv)\n",
    "    "
   ]
  },
  {
   "cell_type": "code",
   "execution_count": 6,
   "metadata": {},
   "outputs": [
    {
     "data": {
      "text/html": [
       "<div>\n",
       "<style scoped>\n",
       "    .dataframe tbody tr th:only-of-type {\n",
       "        vertical-align: middle;\n",
       "    }\n",
       "\n",
       "    .dataframe tbody tr th {\n",
       "        vertical-align: top;\n",
       "    }\n",
       "\n",
       "    .dataframe thead th {\n",
       "        text-align: right;\n",
       "    }\n",
       "</style>\n",
       "<table border=\"1\" class=\"dataframe\">\n",
       "  <thead>\n",
       "    <tr style=\"text-align: right;\">\n",
       "      <th></th>\n",
       "      <th>index</th>\n",
       "      <th>Unnamed: 0</th>\n",
       "      <th>filename</th>\n",
       "      <th>first_name</th>\n",
       "      <th>gcount</th>\n",
       "      <th>ggender</th>\n",
       "      <th>gprobability</th>\n",
       "    </tr>\n",
       "  </thead>\n",
       "  <tbody>\n",
       "    <tr>\n",
       "      <th>784245</th>\n",
       "      <td>110599</td>\n",
       "      <td>119917</td>\n",
       "      <td>Burns_Trauma/PMC6040609.nxml</td>\n",
       "      <td>Lloyd</td>\n",
       "      <td>159.0</td>\n",
       "      <td>male</td>\n",
       "      <td>0.99</td>\n",
       "    </tr>\n",
       "    <tr>\n",
       "      <th>784246</th>\n",
       "      <td>110600</td>\n",
       "      <td>119918</td>\n",
       "      <td>Burns_Trauma/PMC6040609.nxml</td>\n",
       "      <td>James</td>\n",
       "      <td>6359.0</td>\n",
       "      <td>male</td>\n",
       "      <td>0.99</td>\n",
       "    </tr>\n",
       "    <tr>\n",
       "      <th>784247</th>\n",
       "      <td>110601</td>\n",
       "      <td>119919</td>\n",
       "      <td>Burns_Trauma/PMC6040609.nxml</td>\n",
       "      <td>Nelson</td>\n",
       "      <td>609.0</td>\n",
       "      <td>male</td>\n",
       "      <td>0.99</td>\n",
       "    </tr>\n",
       "    <tr>\n",
       "      <th>784248</th>\n",
       "      <td>110602</td>\n",
       "      <td>119920</td>\n",
       "      <td>Bus_Soc/PMC4944588.nxml</td>\n",
       "      <td>Wilson</td>\n",
       "      <td>544.0</td>\n",
       "      <td>male</td>\n",
       "      <td>0.99</td>\n",
       "    </tr>\n",
       "    <tr>\n",
       "      <th>784249</th>\n",
       "      <td>110603</td>\n",
       "      <td>119921</td>\n",
       "      <td>Bus_Soc/PMC4944588.nxml</td>\n",
       "      <td>Kennedy</td>\n",
       "      <td>37.0</td>\n",
       "      <td>male</td>\n",
       "      <td>0.57</td>\n",
       "    </tr>\n",
       "  </tbody>\n",
       "</table>\n",
       "</div>"
      ],
      "text/plain": [
       "         index  Unnamed: 0                      filename first_name  gcount  \\\n",
       "784245  110599      119917  Burns_Trauma/PMC6040609.nxml      Lloyd   159.0   \n",
       "784246  110600      119918  Burns_Trauma/PMC6040609.nxml      James  6359.0   \n",
       "784247  110601      119919  Burns_Trauma/PMC6040609.nxml     Nelson   609.0   \n",
       "784248  110602      119920       Bus_Soc/PMC4944588.nxml     Wilson   544.0   \n",
       "784249  110603      119921       Bus_Soc/PMC4944588.nxml    Kennedy    37.0   \n",
       "\n",
       "       ggender  gprobability  \n",
       "784245    male          0.99  \n",
       "784246    male          0.99  \n",
       "784247    male          0.99  \n",
       "784248    male          0.99  \n",
       "784249    male          0.57  "
      ]
     },
     "execution_count": 6,
     "metadata": {},
     "output_type": "execute_result"
    }
   ],
   "source": [
    "# Load all the results for a plotting\n",
    "F_CSV = glob.glob(\"parsed_gender_data/*.csv\")\n",
    "df = pd.concat([pd.read_csv(f, nrows=10**20) for f in F_CSV]).reset_index()\n",
    "df.tail()\n"
   ]
  },
  {
   "cell_type": "code",
   "execution_count": 7,
   "metadata": {},
   "outputs": [
    {
     "name": "stdout",
     "output_type": "stream",
     "text": [
      "Fraction of people on an ack that are female: 0.2293018807778132\n"
     ]
    }
   ],
   "source": [
    "df[\"is_female\"] = df.ggender==\"female\"\n",
    "print(\"Fraction of people on an ack that are female:\", df.is_female.mean())"
   ]
  },
  {
   "cell_type": "code",
   "execution_count": 8,
   "metadata": {},
   "outputs": [
    {
     "data": {
      "text/plain": [
       "(0.0, 0.2298866592426478)"
      ]
     },
     "execution_count": 8,
     "metadata": {},
     "output_type": "execute_result"
    }
   ],
   "source": [
    "x = df.groupby(\"filename\")[\"is_female\"].mean()\n",
    "(x.median(), x.mean())"
   ]
  },
  {
   "cell_type": "code",
   "execution_count": 9,
   "metadata": {},
   "outputs": [
    {
     "data": {
      "text/html": [
       "<div>\n",
       "<style scoped>\n",
       "    .dataframe tbody tr th:only-of-type {\n",
       "        vertical-align: middle;\n",
       "    }\n",
       "\n",
       "    .dataframe tbody tr th {\n",
       "        vertical-align: top;\n",
       "    }\n",
       "\n",
       "    .dataframe thead th {\n",
       "        text-align: right;\n",
       "    }\n",
       "</style>\n",
       "<table border=\"1\" class=\"dataframe\">\n",
       "  <thead>\n",
       "    <tr style=\"text-align: right;\">\n",
       "      <th></th>\n",
       "      <th>filename</th>\n",
       "      <th>Names</th>\n",
       "    </tr>\n",
       "  </thead>\n",
       "  <tbody>\n",
       "    <tr>\n",
       "      <th>0</th>\n",
       "      <td>PMC5897966</td>\n",
       "      <td>Linda A;Susan;Ravi;John</td>\n",
       "    </tr>\n",
       "    <tr>\n",
       "      <th>1</th>\n",
       "      <td>PMC5897967</td>\n",
       "      <td>Guillaume;Carolyn</td>\n",
       "    </tr>\n",
       "    <tr>\n",
       "      <th>2</th>\n",
       "      <td>PMC5897968</td>\n",
       "      <td>Jeffrey;Dondrae J;Gregory W;Gregory G</td>\n",
       "    </tr>\n",
       "    <tr>\n",
       "      <th>3</th>\n",
       "      <td>PMC5897969</td>\n",
       "      <td>Jeffrey D;Paul J;David C;Faisal;Marta B;Aamir ...</td>\n",
       "    </tr>\n",
       "    <tr>\n",
       "      <th>4</th>\n",
       "      <td>PMC5897970</td>\n",
       "      <td>Andrew W;Kofi M;Caspar M;Julie R;Ernest Victor...</td>\n",
       "    </tr>\n",
       "  </tbody>\n",
       "</table>\n",
       "</div>"
      ],
      "text/plain": [
       "     filename                                              Names\n",
       "0  PMC5897966                            Linda A;Susan;Ravi;John\n",
       "1  PMC5897967                                  Guillaume;Carolyn\n",
       "2  PMC5897968              Jeffrey;Dondrae J;Gregory W;Gregory G\n",
       "3  PMC5897969  Jeffrey D;Paul J;David C;Faisal;Marta B;Aamir ...\n",
       "4  PMC5897970  Andrew W;Kofi M;Caspar M;Julie R;Ernest Victor..."
      ]
     },
     "execution_count": 9,
     "metadata": {},
     "output_type": "execute_result"
    }
   ],
   "source": [
    "info = pd.read_csv(\"../source_data/PMC_info-iSearch_-_Publications-export_2018-09-04-20-53-47.csv\",\n",
    "                   nrows=10**20, usecols = [\"PMCID\", \"Author First Name\"])\n",
    "info = info.rename(columns={\"Author First Name\":\"Names\",\"PMCID\":\"filename\"})\n",
    "info.head()"
   ]
  },
  {
   "cell_type": "code",
   "execution_count": 10,
   "metadata": {},
   "outputs": [],
   "source": [
    "backup = info.copy()"
   ]
  },
  {
   "cell_type": "code",
   "execution_count": 11,
   "metadata": {},
   "outputs": [],
   "source": [
    "info[\"PMCID\"] = info.filename.str[3:]\n",
    "idx = info.PMCID.str.isnumeric()\n",
    "info = info[idx]\n",
    "info[\"PMCID\"] = info.PMCID.astype(int)"
   ]
  },
  {
   "cell_type": "code",
   "execution_count": 12,
   "metadata": {},
   "outputs": [],
   "source": [
    "df.filename = df.filename.astype(str)\n",
    "df[\"PMCID\"] = df.filename.astype(str).str.split('/').str[-1].str.split('.').str[0].str[3:]"
   ]
  },
  {
   "cell_type": "code",
   "execution_count": 13,
   "metadata": {},
   "outputs": [],
   "source": [
    "idx = df.PMCID.str.isnumeric()\n",
    "df = df[idx]\n",
    "df[\"PMCID\"] = df.PMCID.astype(int)"
   ]
  },
  {
   "cell_type": "code",
   "execution_count": 14,
   "metadata": {},
   "outputs": [
    {
     "data": {
      "text/plain": [
       "(0    4270480\n",
       " 1    6058275\n",
       " 2    6058275\n",
       " 3    6058300\n",
       " 4    6058953\n",
       " Name: PMCID, dtype: int64, 0    5897966\n",
       " 1    5897967\n",
       " 2    5897968\n",
       " 3    5897969\n",
       " 4    5897970\n",
       " Name: PMCID, dtype: int64)"
      ]
     },
     "execution_count": 14,
     "metadata": {},
     "output_type": "execute_result"
    }
   ],
   "source": [
    "df.head().PMCID, info.head().PMCID"
   ]
  },
  {
   "cell_type": "code",
   "execution_count": 15,
   "metadata": {},
   "outputs": [],
   "source": [
    "df = df.set_index(\"PMCID\")\n",
    "info = info.set_index(\"PMCID\")"
   ]
  },
  {
   "cell_type": "code",
   "execution_count": 16,
   "metadata": {},
   "outputs": [
    {
     "data": {
      "text/plain": [
       "(0.9963722284845734, 781383)"
      ]
     },
     "execution_count": 16,
     "metadata": {},
     "output_type": "execute_result"
    }
   ],
   "source": [
    "matching = df.index.isin(info.index)\n",
    "matching.mean(), matching.sum()"
   ]
  },
  {
   "cell_type": "code",
   "execution_count": 17,
   "metadata": {},
   "outputs": [],
   "source": [
    "info_subset = info.loc[df[matching].index]"
   ]
  },
  {
   "cell_type": "code",
   "execution_count": 18,
   "metadata": {},
   "outputs": [
    {
     "name": "stderr",
     "output_type": "stream",
     "text": [
      "100%|██████████| 781452/781452 [15:13<00:00, 855.17it/s]\n"
     ]
    },
    {
     "data": {
      "text/html": [
       "<div>\n",
       "<style scoped>\n",
       "    .dataframe tbody tr th:only-of-type {\n",
       "        vertical-align: middle;\n",
       "    }\n",
       "\n",
       "    .dataframe tbody tr th {\n",
       "        vertical-align: top;\n",
       "    }\n",
       "\n",
       "    .dataframe thead th {\n",
       "        text-align: right;\n",
       "    }\n",
       "</style>\n",
       "<table border=\"1\" class=\"dataframe\">\n",
       "  <thead>\n",
       "    <tr style=\"text-align: right;\">\n",
       "      <th></th>\n",
       "      <th>filename</th>\n",
       "      <th>first_name</th>\n",
       "      <th>gcount</th>\n",
       "      <th>ggender</th>\n",
       "      <th>gprobability</th>\n",
       "    </tr>\n",
       "  </thead>\n",
       "  <tbody>\n",
       "    <tr>\n",
       "      <th>4016254</th>\n",
       "      <td>6040608</td>\n",
       "      <td>Sundas</td>\n",
       "      <td>4.0</td>\n",
       "      <td>female</td>\n",
       "      <td>1.0</td>\n",
       "    </tr>\n",
       "    <tr>\n",
       "      <th>4016255</th>\n",
       "      <td>6040608</td>\n",
       "      <td>Adnan</td>\n",
       "      <td>267.0</td>\n",
       "      <td>male</td>\n",
       "      <td>1.0</td>\n",
       "    </tr>\n",
       "    <tr>\n",
       "      <th>4016256</th>\n",
       "      <td>6040608</td>\n",
       "      <td>Akhtar</td>\n",
       "      <td>8.0</td>\n",
       "      <td>male</td>\n",
       "      <td>1.0</td>\n",
       "    </tr>\n",
       "    <tr>\n",
       "      <th>4016257</th>\n",
       "      <td>6040608</td>\n",
       "      <td>Sundas</td>\n",
       "      <td>4.0</td>\n",
       "      <td>female</td>\n",
       "      <td>1.0</td>\n",
       "    </tr>\n",
       "    <tr>\n",
       "      <th>4016258</th>\n",
       "      <td>6040608</td>\n",
       "      <td>Adnan</td>\n",
       "      <td>267.0</td>\n",
       "      <td>male</td>\n",
       "      <td>1.0</td>\n",
       "    </tr>\n",
       "  </tbody>\n",
       "</table>\n",
       "</div>"
      ],
      "text/plain": [
       "         filename first_name  gcount ggender  gprobability\n",
       "4016254   6040608     Sundas     4.0  female           1.0\n",
       "4016255   6040608      Adnan   267.0    male           1.0\n",
       "4016256   6040608     Akhtar     8.0    male           1.0\n",
       "4016257   6040608     Sundas     4.0  female           1.0\n",
       "4016258   6040608      Adnan   267.0    male           1.0"
      ]
     },
     "execution_count": 18,
     "metadata": {},
     "output_type": "execute_result"
    }
   ],
   "source": [
    "pubgender = parse_df(info_subset)\n",
    "pubgender.tail()"
   ]
  },
  {
   "cell_type": "code",
   "execution_count": 19,
   "metadata": {},
   "outputs": [],
   "source": [
    "pubgender = pubgender.set_index(\"filename\")"
   ]
  },
  {
   "cell_type": "code",
   "execution_count": 20,
   "metadata": {},
   "outputs": [
    {
     "data": {
      "text/plain": [
       "(         index  Unnamed: 0                      filename first_name  gcount  \\\n",
       " PMCID                                                                         \n",
       " 4270480      0           0       CALPHAD/PMC4270480.nxml    Ganesan     4.0   \n",
       " 6058275      1           1  CASE_(Phila)/PMC6058275.nxml      Singh    19.0   \n",
       " 6058275      2           2  CASE_(Phila)/PMC6058275.nxml      Cohen     6.0   \n",
       " 6058300      3           3  CASE_(Phila)/PMC6058300.nxml     Miller    31.0   \n",
       " 6058953      4           4  CASE_(Phila)/PMC6058953.nxml  Takahashi     2.0   \n",
       " \n",
       "         ggender  gprobability  is_female  \n",
       " PMCID                                     \n",
       " 4270480    male          1.00      False  \n",
       " 6058275    male          0.79      False  \n",
       " 6058275  female          0.50       True  \n",
       " 6058300    male          0.84      False  \n",
       " 6058953  female          1.00       True  ,\n",
       "          first_name  gcount ggender  gprobability\n",
       " filename                                         \n",
       " 4270480      Simona   503.0  female          0.99\n",
       " 4270480   Gabriella   280.0  female          0.99\n",
       " 4270480     Herbert    91.0    male          1.00\n",
       " 6058275   Velislava     1.0  female          1.00\n",
       " 6058275     Claudia  3051.0  female          1.00)"
      ]
     },
     "execution_count": 20,
     "metadata": {},
     "output_type": "execute_result"
    }
   ],
   "source": [
    "df.head(), pubgender.head()"
   ]
  },
  {
   "cell_type": "code",
   "execution_count": 87,
   "metadata": {},
   "outputs": [
    {
     "name": "stdout",
     "output_type": "stream",
     "text": [
      "Fraction of female authors publications 0.42397238128455006\n"
     ]
    }
   ],
   "source": [
    "pubgender[\"is_female\"] = pubgender.ggender==\"female\"\n",
    "authors = pubgender.reset_index().groupby(\"filename\")[\"is_female\"].mean()\n",
    "print(\"Fraction of female authors publications\", authors.mean())"
   ]
  },
  {
   "cell_type": "code",
   "execution_count": 107,
   "metadata": {},
   "outputs": [
    {
     "name": "stdout",
     "output_type": "stream",
     "text": [
      "Number of total acks that we have information for 312237\n"
     ]
    }
   ],
   "source": [
    "ack = df.reset_index().groupby(\"PMCID\")[\"is_female\"].mean()\n",
    "ack = pd.DataFrame(ack)\n",
    "ack[\"is_female_authors\"] = authors\n",
    "ack = ack.dropna(subset=[\"is_female_authors\"])\n",
    "print(\"Number of total acks that we have information for\", len(ack))"
   ]
  },
  {
   "cell_type": "code",
   "execution_count": 108,
   "metadata": {},
   "outputs": [
    {
     "data": {
      "text/html": [
       "<div>\n",
       "<style scoped>\n",
       "    .dataframe tbody tr th:only-of-type {\n",
       "        vertical-align: middle;\n",
       "    }\n",
       "\n",
       "    .dataframe tbody tr th {\n",
       "        vertical-align: top;\n",
       "    }\n",
       "\n",
       "    .dataframe thead th {\n",
       "        text-align: right;\n",
       "    }\n",
       "</style>\n",
       "<table border=\"1\" class=\"dataframe\">\n",
       "  <thead>\n",
       "    <tr style=\"text-align: right;\">\n",
       "      <th></th>\n",
       "      <th>is_female</th>\n",
       "      <th>is_female_authors</th>\n",
       "    </tr>\n",
       "  </thead>\n",
       "  <tbody>\n",
       "    <tr>\n",
       "      <th>count</th>\n",
       "      <td>312237.000000</td>\n",
       "      <td>312237.000000</td>\n",
       "    </tr>\n",
       "    <tr>\n",
       "      <th>mean</th>\n",
       "      <td>0.233161</td>\n",
       "      <td>0.423972</td>\n",
       "    </tr>\n",
       "    <tr>\n",
       "      <th>std</th>\n",
       "      <td>0.366778</td>\n",
       "      <td>0.333895</td>\n",
       "    </tr>\n",
       "    <tr>\n",
       "      <th>min</th>\n",
       "      <td>0.000000</td>\n",
       "      <td>0.000000</td>\n",
       "    </tr>\n",
       "    <tr>\n",
       "      <th>25%</th>\n",
       "      <td>0.000000</td>\n",
       "      <td>0.083333</td>\n",
       "    </tr>\n",
       "    <tr>\n",
       "      <th>50%</th>\n",
       "      <td>0.000000</td>\n",
       "      <td>0.416667</td>\n",
       "    </tr>\n",
       "    <tr>\n",
       "      <th>75%</th>\n",
       "      <td>0.500000</td>\n",
       "      <td>0.666667</td>\n",
       "    </tr>\n",
       "    <tr>\n",
       "      <th>max</th>\n",
       "      <td>1.000000</td>\n",
       "      <td>1.000000</td>\n",
       "    </tr>\n",
       "  </tbody>\n",
       "</table>\n",
       "</div>"
      ],
      "text/plain": [
       "           is_female  is_female_authors\n",
       "count  312237.000000      312237.000000\n",
       "mean        0.233161           0.423972\n",
       "std         0.366778           0.333895\n",
       "min         0.000000           0.000000\n",
       "25%         0.000000           0.083333\n",
       "50%         0.000000           0.416667\n",
       "75%         0.500000           0.666667\n",
       "max         1.000000           1.000000"
      ]
     },
     "execution_count": 108,
     "metadata": {},
     "output_type": "execute_result"
    }
   ],
   "source": [
    "ack.describe()"
   ]
  },
  {
   "cell_type": "code",
   "execution_count": 109,
   "metadata": {},
   "outputs": [],
   "source": [
    "import pylab as plt\n",
    "import seaborn as sns"
   ]
  },
  {
   "cell_type": "code",
   "execution_count": 110,
   "metadata": {},
   "outputs": [
    {
     "data": {
      "text/plain": [
       "Text(0.5,1,'Difference between average gender of authors vs acknowledgments')"
      ]
     },
     "execution_count": 110,
     "metadata": {},
     "output_type": "execute_result"
    },
    {
     "data": {
      "image/png": "[encoded data removed]",
      "text/plain": [
       "<Figure size 432x288 with 1 Axes>"
      ]
     },
     "metadata": {
      "needs_background": "light"
     },
     "output_type": "display_data"
    }
   ],
   "source": [
    "sns.distplot(ack.is_female_authors - ack.is_female,bins=25,kde=False)\n",
    "sns.despine()\n",
    "plt.title(\"Difference between average gender of authors vs acknowledgments\")"
   ]
  },
  {
   "cell_type": "code",
   "execution_count": 133,
   "metadata": {},
   "outputs": [
    {
     "data": {
      "image/png": "[encoded data removed]",
      "text/plain": [
       "<Figure size 720x432 with 2 Axes>"
      ]
     },
     "metadata": {
      "needs_background": "light"
     },
     "output_type": "display_data"
    }
   ],
   "source": [
    "fig, axes = plt.subplots(2, 1, figsize=(10, 6), sharex=True)\n",
    "axes = axes.ravel()\n",
    "\n",
    "sns.distplot(ack.is_female,\n",
    "             label=\"Acknowledgments average gender\",norm_hist=False,kde=False,bins=20,ax=axes[1])\n",
    "sns.distplot(ack.is_female_authors, label=\"Author average gender\",norm_hist=False,kde=False,bins=20,ax=axes[0])\n",
    "axes[0].set_xlabel(\"Fraction of female authorship\", fontsize=14)\n",
    "axes[1].set_xlabel(\"Fraction of female acknowledgements\", fontsize=14)\n",
    "\n",
    "axes[0].set_ylabel(\"Publication count\", fontsize=14)\n",
    "axes[1].set_ylabel(\"Publication count\", fontsize=14)\n",
    "\n",
    "\n",
    "sns.despine()\n",
    "plt.show()\n"
   ]
  },
  {
   "cell_type": "code",
   "execution_count": 118,
   "metadata": {},
   "outputs": [
    {
     "name": "stdout",
     "output_type": "stream",
     "text": [
      "Number of all-male ack 202150\n",
      "Number of all-female ack 47105\n"
     ]
    },
    {
     "name": "stderr",
     "output_type": "stream",
     "text": [
      "/home/ubuntu/.pyenv/versions/3.6.0/lib/python3.6/site-packages/ipykernel_launcher.py:3: UserWarning: Boolean Series key will be reindexed to match DataFrame index.\n",
      "  This is separate from the ipykernel package so we can avoid doing imports until\n"
     ]
    },
    {
     "ename": "AttributeError",
     "evalue": "'DataFrame' object has no attribute 'is_female_authors'",
     "output_type": "error",
     "traceback": [
      "\u001b[0;31m---------------------------------------------------------------------------\u001b[0m",
      "\u001b[0;31mAttributeError\u001b[0m                            Traceback (most recent call last)",
      "\u001b[0;32m<ipython-input-118-bb12d942cd42>\u001b[0m in \u001b[0;36m<module>\u001b[0;34m()\u001b[0m\n\u001b[1;32m      2\u001b[0m \u001b[0mprint\u001b[0m\u001b[0;34m(\u001b[0m\u001b[0;34m\"Number of all-female ack\"\u001b[0m\u001b[0;34m,\u001b[0m \u001b[0;34m(\u001b[0m\u001b[0mack\u001b[0m\u001b[0;34m.\u001b[0m\u001b[0mis_female\u001b[0m \u001b[0;34m==\u001b[0m \u001b[0;36m1\u001b[0m\u001b[0;34m)\u001b[0m\u001b[0;34m.\u001b[0m\u001b[0msum\u001b[0m\u001b[0;34m(\u001b[0m\u001b[0;34m)\u001b[0m\u001b[0;34m)\u001b[0m\u001b[0;34m\u001b[0m\u001b[0m\n\u001b[1;32m      3\u001b[0m \u001b[0msingles\u001b[0m \u001b[0;34m=\u001b[0m \u001b[0mdf\u001b[0m\u001b[0;34m[\u001b[0m\u001b[0mdf\u001b[0m\u001b[0;34m.\u001b[0m\u001b[0mreset_index\u001b[0m\u001b[0;34m(\u001b[0m\u001b[0;34m)\u001b[0m\u001b[0;34m.\u001b[0m\u001b[0mgroupby\u001b[0m\u001b[0;34m(\u001b[0m\u001b[0;34m\"PMCID\"\u001b[0m\u001b[0;34m)\u001b[0m\u001b[0;34m.\u001b[0m\u001b[0msize\u001b[0m\u001b[0;34m(\u001b[0m\u001b[0;34m)\u001b[0m\u001b[0;34m==\u001b[0m\u001b[0;36m1\u001b[0m\u001b[0;34m]\u001b[0m\u001b[0;34m\u001b[0m\u001b[0m\n\u001b[0;32m----> 4\u001b[0;31m \u001b[0msingles\u001b[0m\u001b[0;34m.\u001b[0m\u001b[0mis_female\u001b[0m\u001b[0;34m.\u001b[0m\u001b[0mmean\u001b[0m\u001b[0;34m(\u001b[0m\u001b[0;34m)\u001b[0m\u001b[0;34m,\u001b[0m \u001b[0msingles\u001b[0m\u001b[0;34m.\u001b[0m\u001b[0mis_female_authors\u001b[0m\u001b[0;34m.\u001b[0m\u001b[0mmean\u001b[0m\u001b[0;34m(\u001b[0m\u001b[0;34m)\u001b[0m\u001b[0;34m\u001b[0m\u001b[0m\n\u001b[0m",
      "\u001b[0;32m~/.pyenv/versions/3.6.0/lib/python3.6/site-packages/pandas/core/generic.py\u001b[0m in \u001b[0;36m__getattr__\u001b[0;34m(self, name)\u001b[0m\n\u001b[1;32m   4374\u001b[0m             \u001b[0;32mif\u001b[0m \u001b[0mself\u001b[0m\u001b[0;34m.\u001b[0m\u001b[0m_info_axis\u001b[0m\u001b[0;34m.\u001b[0m\u001b[0m_can_hold_identifiers_and_holds_name\u001b[0m\u001b[0;34m(\u001b[0m\u001b[0mname\u001b[0m\u001b[0;34m)\u001b[0m\u001b[0;34m:\u001b[0m\u001b[0;34m\u001b[0m\u001b[0m\n\u001b[1;32m   4375\u001b[0m                 \u001b[0;32mreturn\u001b[0m \u001b[0mself\u001b[0m\u001b[0;34m[\u001b[0m\u001b[0mname\u001b[0m\u001b[0;34m]\u001b[0m\u001b[0;34m\u001b[0m\u001b[0m\n\u001b[0;32m-> 4376\u001b[0;31m             \u001b[0;32mreturn\u001b[0m \u001b[0mobject\u001b[0m\u001b[0;34m.\u001b[0m\u001b[0m__getattribute__\u001b[0m\u001b[0;34m(\u001b[0m\u001b[0mself\u001b[0m\u001b[0;34m,\u001b[0m \u001b[0mname\u001b[0m\u001b[0;34m)\u001b[0m\u001b[0;34m\u001b[0m\u001b[0m\n\u001b[0m\u001b[1;32m   4377\u001b[0m \u001b[0;34m\u001b[0m\u001b[0m\n\u001b[1;32m   4378\u001b[0m     \u001b[0;32mdef\u001b[0m \u001b[0m__setattr__\u001b[0m\u001b[0;34m(\u001b[0m\u001b[0mself\u001b[0m\u001b[0;34m,\u001b[0m \u001b[0mname\u001b[0m\u001b[0;34m,\u001b[0m \u001b[0mvalue\u001b[0m\u001b[0;34m)\u001b[0m\u001b[0;34m:\u001b[0m\u001b[0;34m\u001b[0m\u001b[0m\n",
      "\u001b[0;31mAttributeError\u001b[0m: 'DataFrame' object has no attribute 'is_female_authors'"
     ]
    }
   ],
   "source": [
    "print(\"Number of all-male ack\", (ack.is_female == 0).sum())\n",
    "print(\"Number of all-female ack\", (ack.is_female == 1).sum())\n",
    "singles = df[df.reset_index().groupby(\"PMCID\").size()==1]\n",
    "singles.is_female.mean(), singles.is_female_authors.mean()"
   ]
  },
  {
   "cell_type": "code",
   "execution_count": 95,
   "metadata": {},
   "outputs": [
    {
     "data": {
      "text/plain": [
       "0.7982878390453405"
      ]
     },
     "execution_count": 95,
     "metadata": {},
     "output_type": "execute_result"
    }
   ],
   "source": [
    "(202150+47105)/float(len(ack))"
   ]
  },
  {
   "cell_type": "code",
   "execution_count": 80,
   "metadata": {},
   "outputs": [
    {
     "name": "stdout",
     "output_type": "stream",
     "text": [
      "Median acks/per 5.0\n",
      "Median authors/per 1.0\n"
     ]
    }
   ],
   "source": [
    "ack_counts = pubgender.reset_index().groupby(\"filename\").size()\n",
    "pub_counts = info_subset.reset_index().groupby(\"PMCID\").size()\n",
    "\n",
    "print(\"Median acks/per\", ack_counts.median())\n",
    "print(\"Median authors/per\", pub_counts.median())\n",
    "\n",
    "ack_counts = ack_counts[ack_counts<20]\n",
    "pub_counts = pub_counts[pub_counts<20]\n",
    "#ack_counts\n",
    "#pub_counts.sort_values(ascending=False).head(), ack_counts.sort_values(ascending=False).head()"
   ]
  },
  {
   "cell_type": "code",
   "execution_count": 82,
   "metadata": {},
   "outputs": [
    {
     "data": {
      "image/png": "[encoded data removed]",
      "text/plain": [
       "<Figure size 432x288 with 1 Axes>"
      ]
     },
     "metadata": {
      "needs_background": "light"
     },
     "output_type": "display_data"
    }
   ],
   "source": [
    "sns.distplot(ack_counts.values, label=\"Number of acknowledged people\",norm_hist=False,kde=False,bins=21)\n",
    "sns.distplot(pub_counts.values, label=\"Number of authors\",norm_hist=False,kde=False,bins=21)\n",
    "plt.legend()\n",
    "plt.xlabel(\"People counts\")\n",
    "plt.show()"
   ]
  },
  {
   "cell_type": "code",
   "execution_count": null,
   "metadata": {},
   "outputs": [],
   "source": []
  }
 ],
 "metadata": {
  "kernelspec": {
   "display_name": "Python 3",
   "language": "python",
   "name": "python3"
  },
  "language_info": {
   "codemirror_mode": {
    "name": "ipython",
    "version": 3
   },
   "file_extension": ".py",
   "mimetype": "text/x-python",
   "name": "python",
   "nbconvert_exporter": "python",
   "pygments_lexer": "ipython3",
   "version": "3.6.0"
  }
 },
 "nbformat": 4,
 "nbformat_minor": 2
}
