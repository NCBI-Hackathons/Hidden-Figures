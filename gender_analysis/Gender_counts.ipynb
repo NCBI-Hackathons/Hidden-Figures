{
 "cells": [
  {
   "cell_type": "code",
   "execution_count": 66,
   "metadata": {},
   "outputs": [],
   "source": [
    "import pandas as pd\n",
    "import string, glob, os"
   ]
  },
  {
   "cell_type": "code",
   "execution_count": 67,
   "metadata": {},
   "outputs": [],
   "source": [
    "# Load the genderize data\n",
    "genderize = pd.read_csv(\"../source_data/genderizer_collected.csv\").set_index('name')\n",
    "genderize.head()\n",
    "known_names = set(genderize.index.values)"
   ]
  },
  {
   "cell_type": "code",
   "execution_count": 128,
   "metadata": {},
   "outputs": [],
   "source": [
    "def parse_df(df):\n",
    "    lets = set(string.ascii_letters+\"- .\")\n",
    "    data = []\n",
    "    for f, names in zip(df.index, df.Names):\n",
    "        if type(names) == float:\n",
    "            continue\n",
    "            \n",
    "        for name in names.split(';'):\n",
    "            if not all([a in lets for a in name]):\n",
    "                continue\n",
    "            if not name.strip():\n",
    "                continue\n",
    "            \n",
    "            first_name = name.split().pop()\n",
    "            if first_name not in known_names:\n",
    "                continue\n",
    "\n",
    "            x = genderize.loc[first_name]\n",
    "            item = {\"filename\":f}\n",
    "            item[\"first_name\"] = first_name\n",
    "            item[\"gcount\"] = x[\"count\"]\n",
    "            item[\"ggender\"] = x[\"gender\"]\n",
    "            item[\"gprobability\"] = x[\"probability\"]\n",
    "\n",
    "            data.append(item)\n",
    "\n",
    "    data = pd.DataFrame(data).dropna()\n",
    "    return data"
   ]
  },
  {
   "cell_type": "code",
   "execution_count": 79,
   "metadata": {},
   "outputs": [
    {
     "data": {
      "text/html": [
       "<div>\n",
       "<style scoped>\n",
       "    .dataframe tbody tr th:only-of-type {\n",
       "        vertical-align: middle;\n",
       "    }\n",
       "\n",
       "    .dataframe tbody tr th {\n",
       "        vertical-align: top;\n",
       "    }\n",
       "\n",
       "    .dataframe thead th {\n",
       "        text-align: right;\n",
       "    }\n",
       "</style>\n",
       "<table border=\"1\" class=\"dataframe\">\n",
       "  <thead>\n",
       "    <tr style=\"text-align: right;\">\n",
       "      <th></th>\n",
       "      <th>first_name</th>\n",
       "      <th>gcount</th>\n",
       "      <th>ggender</th>\n",
       "      <th>gprobability</th>\n",
       "    </tr>\n",
       "    <tr>\n",
       "      <th>filename</th>\n",
       "      <th></th>\n",
       "      <th></th>\n",
       "      <th></th>\n",
       "      <th></th>\n",
       "    </tr>\n",
       "  </thead>\n",
       "  <tbody>\n",
       "    <tr>\n",
       "      <th>20_Century_Br_Hist/PMC4804230.nxml</th>\n",
       "      <td>Thomson</td>\n",
       "      <td>7.0</td>\n",
       "      <td>male</td>\n",
       "      <td>1.00</td>\n",
       "    </tr>\n",
       "    <tr>\n",
       "      <th>20_Century_Br_Hist/PMC5905639.nxml</th>\n",
       "      <td>Thomson</td>\n",
       "      <td>7.0</td>\n",
       "      <td>male</td>\n",
       "      <td>1.00</td>\n",
       "    </tr>\n",
       "    <tr>\n",
       "      <th>3D_Print_Med/PMC5954789.nxml</th>\n",
       "      <td>Wong</td>\n",
       "      <td>215.0</td>\n",
       "      <td>female</td>\n",
       "      <td>0.50</td>\n",
       "    </tr>\n",
       "    <tr>\n",
       "      <th>3D_Print_Med/PMC5954789.nxml</th>\n",
       "      <td>Lee</td>\n",
       "      <td>2089.0</td>\n",
       "      <td>male</td>\n",
       "      <td>0.75</td>\n",
       "    </tr>\n",
       "    <tr>\n",
       "      <th>3D_Print_Med/PMC5954790.nxml</th>\n",
       "      <td>Smith</td>\n",
       "      <td>28.0</td>\n",
       "      <td>male</td>\n",
       "      <td>0.68</td>\n",
       "    </tr>\n",
       "  </tbody>\n",
       "</table>\n",
       "</div>"
      ],
      "text/plain": [
       "                                   first_name  gcount ggender  gprobability\n",
       "filename                                                                   \n",
       "20_Century_Br_Hist/PMC4804230.nxml    Thomson     7.0    male          1.00\n",
       "20_Century_Br_Hist/PMC5905639.nxml    Thomson     7.0    male          1.00\n",
       "3D_Print_Med/PMC5954789.nxml             Wong   215.0  female          0.50\n",
       "3D_Print_Med/PMC5954789.nxml              Lee  2089.0    male          0.75\n",
       "3D_Print_Med/PMC5954790.nxml            Smith    28.0    male          0.68"
      ]
     },
     "execution_count": 79,
     "metadata": {},
     "output_type": "execute_result"
    }
   ],
   "source": [
    "# Load the names from PMC ack\n",
    "df = pd.read_csv(\"../parsed_data/Extracted Names A-B.csv\", nrows=20,usecols=[\"filename\",\"Names\"]).set_index(\"filename\")\n",
    "df[\"Names\"].fillna(\"\",inplace=True)\n",
    "\n",
    "data = parse_df(df)\n",
    "data.head()"
   ]
  },
  {
   "cell_type": "code",
   "execution_count": 80,
   "metadata": {},
   "outputs": [
    {
     "name": "stdout",
     "output_type": "stream",
     "text": [
      "                                   first_name  gcount ggender  gprobability\n",
      "filename                                                                   \n",
      "20_Century_Br_Hist/PMC4804230.nxml    Thomson     7.0    male          1.00\n",
      "20_Century_Br_Hist/PMC5905639.nxml    Thomson     7.0    male          1.00\n",
      "3D_Print_Med/PMC5954789.nxml             Wong   215.0  female          0.50\n",
      "3D_Print_Med/PMC5954789.nxml              Lee  2089.0    male          0.75\n",
      "3D_Print_Med/PMC5954790.nxml            Smith    28.0    male          0.68\n",
      "                                   first_name  gcount ggender  gprobability\n",
      "filename                                                                   \n",
      "20_Century_Br_Hist/PMC4804230.nxml    Thomson     7.0    male          1.00\n",
      "20_Century_Br_Hist/PMC5905639.nxml    Thomson     7.0    male          1.00\n",
      "3D_Print_Med/PMC5954789.nxml             Wong   215.0  female          0.50\n",
      "3D_Print_Med/PMC5954789.nxml              Lee  2089.0    male          0.75\n",
      "3D_Print_Med/PMC5954790.nxml            Smith    28.0    male          0.68\n",
      "                                   first_name  gcount ggender  gprobability\n",
      "filename                                                                   \n",
      "20_Century_Br_Hist/PMC4804230.nxml    Thomson     7.0    male          1.00\n",
      "20_Century_Br_Hist/PMC5905639.nxml    Thomson     7.0    male          1.00\n",
      "3D_Print_Med/PMC5954789.nxml             Wong   215.0  female          0.50\n",
      "3D_Print_Med/PMC5954789.nxml              Lee  2089.0    male          0.75\n",
      "3D_Print_Med/PMC5954790.nxml            Smith    28.0    male          0.68\n"
     ]
    }
   ],
   "source": [
    "F_CSV = glob.glob(\"../parsed_data/Extracted Names*.csv\")\n",
    "save_dest = \"parsed_gender_data\"\n",
    "os.system(f'mkdir -p {save_dest}')\n",
    "\n",
    "for f in F_CSV:\n",
    "    df = pd.read_csv(\"../parsed_data/Extracted Names A-B.csv\", \n",
    "                     nrows=10**20,\n",
    "                     usecols=[\"filename\",\"Names\"]).set_index(\"filename\")\n",
    "    df[\"Names\"].fillna(\"\",inplace=True)\n",
    "    data = parse_df(df)\n",
    "    \n",
    "    f_csv = os.path.join(save_dest, os.path.basename(f))\n",
    "    print(data.head())\n",
    "    data.to_csv(f_csv)\n",
    "    "
   ]
  },
  {
   "cell_type": "code",
   "execution_count": 82,
   "metadata": {},
   "outputs": [
    {
     "data": {
      "text/html": [
       "<div>\n",
       "<style scoped>\n",
       "    .dataframe tbody tr th:only-of-type {\n",
       "        vertical-align: middle;\n",
       "    }\n",
       "\n",
       "    .dataframe tbody tr th {\n",
       "        vertical-align: top;\n",
       "    }\n",
       "\n",
       "    .dataframe thead th {\n",
       "        text-align: right;\n",
       "    }\n",
       "</style>\n",
       "<table border=\"1\" class=\"dataframe\">\n",
       "  <thead>\n",
       "    <tr style=\"text-align: right;\">\n",
       "      <th></th>\n",
       "      <th>index</th>\n",
       "      <th>filename</th>\n",
       "      <th>first_name</th>\n",
       "      <th>gcount</th>\n",
       "      <th>ggender</th>\n",
       "      <th>gprobability</th>\n",
       "    </tr>\n",
       "  </thead>\n",
       "  <tbody>\n",
       "    <tr>\n",
       "      <th>331807</th>\n",
       "      <td>110599</td>\n",
       "      <td>Burns_Trauma/PMC6040609.nxml</td>\n",
       "      <td>Lloyd</td>\n",
       "      <td>159.0</td>\n",
       "      <td>male</td>\n",
       "      <td>0.99</td>\n",
       "    </tr>\n",
       "    <tr>\n",
       "      <th>331808</th>\n",
       "      <td>110600</td>\n",
       "      <td>Burns_Trauma/PMC6040609.nxml</td>\n",
       "      <td>James</td>\n",
       "      <td>6359.0</td>\n",
       "      <td>male</td>\n",
       "      <td>0.99</td>\n",
       "    </tr>\n",
       "    <tr>\n",
       "      <th>331809</th>\n",
       "      <td>110601</td>\n",
       "      <td>Burns_Trauma/PMC6040609.nxml</td>\n",
       "      <td>Nelson</td>\n",
       "      <td>609.0</td>\n",
       "      <td>male</td>\n",
       "      <td>0.99</td>\n",
       "    </tr>\n",
       "    <tr>\n",
       "      <th>331810</th>\n",
       "      <td>110602</td>\n",
       "      <td>Bus_Soc/PMC4944588.nxml</td>\n",
       "      <td>Wilson</td>\n",
       "      <td>544.0</td>\n",
       "      <td>male</td>\n",
       "      <td>0.99</td>\n",
       "    </tr>\n",
       "    <tr>\n",
       "      <th>331811</th>\n",
       "      <td>110603</td>\n",
       "      <td>Bus_Soc/PMC4944588.nxml</td>\n",
       "      <td>Kennedy</td>\n",
       "      <td>37.0</td>\n",
       "      <td>male</td>\n",
       "      <td>0.57</td>\n",
       "    </tr>\n",
       "  </tbody>\n",
       "</table>\n",
       "</div>"
      ],
      "text/plain": [
       "         index                      filename first_name  gcount ggender  \\\n",
       "331807  110599  Burns_Trauma/PMC6040609.nxml      Lloyd   159.0    male   \n",
       "331808  110600  Burns_Trauma/PMC6040609.nxml      James  6359.0    male   \n",
       "331809  110601  Burns_Trauma/PMC6040609.nxml     Nelson   609.0    male   \n",
       "331810  110602       Bus_Soc/PMC4944588.nxml     Wilson   544.0    male   \n",
       "331811  110603       Bus_Soc/PMC4944588.nxml    Kennedy    37.0    male   \n",
       "\n",
       "        gprobability  \n",
       "331807          0.99  \n",
       "331808          0.99  \n",
       "331809          0.99  \n",
       "331810          0.99  \n",
       "331811          0.57  "
      ]
     },
     "execution_count": 82,
     "metadata": {},
     "output_type": "execute_result"
    }
   ],
   "source": [
    "# Load all the results for a plotting\n",
    "F_CSV = glob.glob(\"parsed_gender_data/*.csv\")\n",
    "df = pd.concat([pd.read_csv(f, nrows=10**20) for f in F_CSV]).reset_index()\n",
    "df.tail()\n"
   ]
  },
  {
   "cell_type": "code",
   "execution_count": 85,
   "metadata": {},
   "outputs": [
    {
     "name": "stdout",
     "output_type": "stream",
     "text": [
      "Fraction of people on an ack that are female: 0.22425047918700952\n"
     ]
    }
   ],
   "source": [
    "df[\"is_female\"] = df.ggender==\"female\"\n",
    "print(\"Fraction of people on an ack that are female:\", df.is_female.mean())"
   ]
  },
  {
   "cell_type": "code",
   "execution_count": 89,
   "metadata": {},
   "outputs": [
    {
     "data": {
      "text/plain": [
       "(0.0, 0.2261571742468239)"
      ]
     },
     "execution_count": 89,
     "metadata": {},
     "output_type": "execute_result"
    }
   ],
   "source": [
    "x = df.groupby(\"filename\")[\"is_female\"].mean()\n",
    "(x.median(), x.mean())"
   ]
  },
  {
   "cell_type": "code",
   "execution_count": 120,
   "metadata": {},
   "outputs": [
    {
     "data": {
      "text/html": [
       "<div>\n",
       "<style scoped>\n",
       "    .dataframe tbody tr th:only-of-type {\n",
       "        vertical-align: middle;\n",
       "    }\n",
       "\n",
       "    .dataframe tbody tr th {\n",
       "        vertical-align: top;\n",
       "    }\n",
       "\n",
       "    .dataframe thead th {\n",
       "        text-align: right;\n",
       "    }\n",
       "</style>\n",
       "<table border=\"1\" class=\"dataframe\">\n",
       "  <thead>\n",
       "    <tr style=\"text-align: right;\">\n",
       "      <th></th>\n",
       "      <th>PMCID</th>\n",
       "      <th>Author First Name</th>\n",
       "    </tr>\n",
       "  </thead>\n",
       "  <tbody>\n",
       "    <tr>\n",
       "      <th>0</th>\n",
       "      <td>PMC5897966</td>\n",
       "      <td>Linda A;Susan;Ravi;John</td>\n",
       "    </tr>\n",
       "    <tr>\n",
       "      <th>1</th>\n",
       "      <td>PMC5897967</td>\n",
       "      <td>Guillaume;Carolyn</td>\n",
       "    </tr>\n",
       "    <tr>\n",
       "      <th>2</th>\n",
       "      <td>PMC5897968</td>\n",
       "      <td>Jeffrey;Dondrae J;Gregory W;Gregory G</td>\n",
       "    </tr>\n",
       "    <tr>\n",
       "      <th>3</th>\n",
       "      <td>PMC5897969</td>\n",
       "      <td>Jeffrey D;Paul J;David C;Faisal;Marta B;Aamir ...</td>\n",
       "    </tr>\n",
       "    <tr>\n",
       "      <th>4</th>\n",
       "      <td>PMC5897970</td>\n",
       "      <td>Andrew W;Kofi M;Caspar M;Julie R;Ernest Victor...</td>\n",
       "    </tr>\n",
       "  </tbody>\n",
       "</table>\n",
       "</div>"
      ],
      "text/plain": [
       "        PMCID                                  Author First Name\n",
       "0  PMC5897966                            Linda A;Susan;Ravi;John\n",
       "1  PMC5897967                                  Guillaume;Carolyn\n",
       "2  PMC5897968              Jeffrey;Dondrae J;Gregory W;Gregory G\n",
       "3  PMC5897969  Jeffrey D;Paul J;David C;Faisal;Marta B;Aamir ...\n",
       "4  PMC5897970  Andrew W;Kofi M;Caspar M;Julie R;Ernest Victor..."
      ]
     },
     "execution_count": 120,
     "metadata": {},
     "output_type": "execute_result"
    }
   ],
   "source": [
    "info = pd.read_csv(\"../source_data/PMC_info-iSearch_-_Publications-export_2018-09-04-20-53-47.csv\",\n",
    "                   nrows=10**20, usecols = [\"PMCID\", \"Author First Name\"])\n",
    "info.head()"
   ]
  },
  {
   "cell_type": "code",
   "execution_count": 121,
   "metadata": {},
   "outputs": [],
   "source": [
    "info = info.rename(columns={\"Author First Name\":\"Names\",\"PMCID\":\"filename\"}).set_index(\"filename\")"
   ]
  },
  {
   "cell_type": "code",
   "execution_count": null,
   "metadata": {},
   "outputs": [],
   "source": [
    "pubgender = parse_df(info)\n",
    "pubgender.tail()"
   ]
  },
  {
   "cell_type": "code",
   "execution_count": 111,
   "metadata": {},
   "outputs": [
    {
     "data": {
      "text/plain": [
       "Index([], dtype='object')"
      ]
     },
     "execution_count": 111,
     "metadata": {},
     "output_type": "execute_result"
    }
   ],
   "source": [
    "x.columns"
   ]
  },
  {
   "cell_type": "code",
   "execution_count": null,
   "metadata": {},
   "outputs": [],
   "source": [
    "a= 2\n",
    "a"
   ]
  },
  {
   "cell_type": "code",
   "execution_count": null,
   "metadata": {},
   "outputs": [],
   "source": []
  }
 ],
 "metadata": {
  "kernelspec": {
   "display_name": "Python 3",
   "language": "python",
   "name": "python3"
  },
  "language_info": {
   "codemirror_mode": {
    "name": "ipython",
    "version": 3
   },
   "file_extension": ".py",
   "mimetype": "text/x-python",
   "name": "python",
   "nbconvert_exporter": "python",
   "pygments_lexer": "ipython3",
   "version": "3.6.0"
  }
 },
 "nbformat": 4,
 "nbformat_minor": 2
}
