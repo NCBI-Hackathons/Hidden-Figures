{
 "cells": [
  {
   "cell_type": "code",
   "execution_count": null,
   "metadata": {},
   "outputs": [],
   "source": [
    "import pandas as pd\n",
    "import pylab as plt\n",
    "import seaborn as sns\n",
    "import numpy as np"
   ]
  },
  {
   "cell_type": "code",
   "execution_count": null,
   "metadata": {},
   "outputs": [],
   "source": [
    "ack_present = pd.read_csv('../parsed_data/cleaned_data/PMC_full_text_ack_present.csv')\n",
    "\n",
    "ack_absent = pd.read_csv('../parsed_data/cleaned_data/PMC_full_text_ack_absent.csv')"
   ]
  },
  {
   "cell_type": "code",
   "execution_count": null,
   "metadata": {},
   "outputs": [],
   "source": [
    "both_sets = pd.concat([ack_present,ack_absent])\n",
    "\n",
    "df = pd.DataFrame(both_sets['Journal Name'].value_counts())\n",
    "\n",
    "df = df.rename({'Journal Name':'Both Sets'}, axis=1)\n",
    "\n",
    "df['ack_present'] = ack_present['Journal Name'].value_counts()\n",
    "\n",
    "df['ack_absent'] = ack_absent['Journal Name'].value_counts()\n",
    "\n",
    "df['Percent Present'] = (df['ack_present']/df['Both Sets'])\n",
    "\n",
    "df = df.fillna(value=0, axis=1).sort_values(by=['Both Sets'],axis=0, ascending=False)\n",
    "\n",
    "df"
   ]
  },
  {
   "cell_type": "code",
   "execution_count": null,
   "metadata": {},
   "outputs": [],
   "source": [
    "df.to_csv('Journal_ack_statistics.csv', index=True)"
   ]
  },
  {
   "cell_type": "code",
   "execution_count": null,
   "metadata": {},
   "outputs": [],
   "source": [
    "#Calculating RCR statistics for \n",
    "\n",
    "print(\"Ack present median:\", ack_present[ack_present['Pub Year'] <= 2016]['RCR'].median())\n",
    "print(\"Ack present mean:\",ack_present[ack_present['Pub Year'] <= 2016]['RCR'].mean())\n",
    "print(\"Ack absent median:\",ack_absent[ack_absent['Pub Year'] <= 2016]['RCR'].median())\n",
    "print(\"Ack absent mean:\",ack_absent[ack_absent['Pub Year'] <= 2016]['RCR'].mean())\n",
    "\n",
    "\n",
    "rcr_present = np.log(ack_present['RCR'].dropna()+1)\n",
    "rcr_present = rcr_present[rcr_present > 0]\n",
    "\n",
    "rcr_absent = np.log(ack_absent['RCR'].dropna()+1)\n",
    "rcr_absent = rcr_absent[rcr_absent > 0]\n"
   ]
  },
  {
   "cell_type": "code",
   "execution_count": null,
   "metadata": {},
   "outputs": [],
   "source": [
    "fig, ax = plt.subplots()\n",
    "\n",
    "#ax.set(xscale=\"log\")\n",
    "\n",
    "plt.xlim(0, 3)\n",
    "\n",
    "plt.ylim(0, 1.5)\n",
    "\n",
    "sns.distplot(rcr_present, label='Ack Present')\n",
    "sns.distplot(rcr_absent, label='Ack Asbsent')\n",
    "plt.legend(loc='upper right')\n",
    "\n",
    "sns.despine()\n",
    "\n",
    "plt.show()"
   ]
  },
  {
   "cell_type": "code",
   "execution_count": null,
   "metadata": {},
   "outputs": [],
   "source": []
  }
 ],
 "metadata": {
  "kernelspec": {
   "display_name": "Python 3",
   "language": "python",
   "name": "python3"
  },
  "language_info": {
   "codemirror_mode": {
    "name": "ipython",
    "version": 3
   },
   "file_extension": ".py",
   "mimetype": "text/x-python",
   "name": "python",
   "nbconvert_exporter": "python",
   "pygments_lexer": "ipython3",
   "version": "3.6.0"
  }
 },
 "nbformat": 4,
 "nbformat_minor": 2
}
