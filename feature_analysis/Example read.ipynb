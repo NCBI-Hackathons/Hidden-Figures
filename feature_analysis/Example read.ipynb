{
 "cells": [
  {
   "cell_type": "code",
   "execution_count": 4,
   "metadata": {},
   "outputs": [],
   "source": [
    "import os"
   ]
  },
  {
   "cell_type": "code",
   "execution_count": 5,
   "metadata": {},
   "outputs": [],
   "source": [
    "f_csv = \"../source_data/extracted/articles.A-B.xml.tar.gz.csv\""
   ]
  },
  {
   "cell_type": "code",
   "execution_count": 6,
   "metadata": {},
   "outputs": [
    {
     "name": "stdout",
     "output_type": "stream",
     "text": [
      "0 filename,Acknowledgment_Tag\n",
      "\n",
      "1 20_Century_Br_Hist/PMC4804230.nxml,\"<ack><p>The author would like to sincerely thank the anonymous reviewers, as well as Dr. Mathew Thomson, for their insightful comments on earlier drafts of this article. I would also like to thank the <funding-source>Wellcome Trust</funding-source>, whose grant made this research possible [grant number <award-id>WT099346MA</award-id>].</p></ack>\"\n",
      "\n",
      "2 20_Century_Br_Hist/PMC5905639.nxml,\"<ack><p>Research for this article was funded by a Wellcome Trust Investigator Award, ‘The Cultural History of the NHS’. I would like to thank my co-investigator Mathew Thomson and all members of the team for their comments and insight. Thanks are due, as well, to the TCBH editors and readers, and to the British Cartoon Archive, Solo Syndication, and N&amp;S Syndication for their enthusiastic assistance with licensing the images reproduced here.</p></ack>\"\n",
      "\n",
      "3 3D_Print_Med/PMC5954787.nxml,\"<ack><p>This research was supported by a grant (2015-672 and 2016-681) from the Asan Institute for Life Sciences, Asan Medical Center, Seoul, Korea.</p><sec id=\"\"FPar1\"\"><title>Funding</title><p id=\"\"Par33\"\">This study was supported by grants (2015–672 and 2016–681) from the Asan Institute for Life Sciences, Asan Medical Center, Seoul, South Korea.</p></sec><sec id=\"\"FPar2\"\"><title>Availability of data and materials</title><p id=\"\"Par34\"\">Readers interested in the data should contact the authors.</p></sec></ack>\"\n",
      "\n",
      "4 3D_Print_Med/PMC5954788.nxml,\"<ack><title>Acknowledgements</title><p>None.</p><sec id=\"\"d29e591\"\"><title>Funding</title><p>This work was supported by internal funds from MD Anderson Cancer Center and the Shirley Stein Endowed Research Award to Eugene Koay.</p></sec><sec id=\"\"FPar1\"\"><title>Availability of data and materials</title><p id=\"\"Par19\"\">N/A</p></sec></ack>\"\n",
      "\n",
      "5 3D_Print_Med/PMC5954789.nxml,\"<ack><title>Acknowledgements</title><p>The authors wish to acknowledge Diya Ma, Matthew-Lun Wong, Ka-Long Ko, Ka-Hei Ko and Jin-Peng Lee for their important contributions to the software development.</p><sec id=\"\"FPar1\"\"><title>Funding</title><p id=\"\"Par28\"\">The work described in this paper was supported by a grant from the Research Grants Council of the Hong Kong Special Administrative Region, China (Project No.: CUHK 14113214), grants from the Innovation and Technology Commission (Project No: ITS/149/14FP, GHP/028/14SZ, ITS/293/14FP), grants from CUHK Technology and Business Development Fund (Project No.: TBF16MED002, TBF16MED004), a grant from The Science, Technology and Innovation Commission of Shenzhen Municipality (Project No.: CXZZ20140606164105361), and a grant from The Scientific Research Project of Guangdong Province (Project No.: 2014B090901055).</p></sec></ack>\"\n",
      "\n",
      "6 3D_Print_Med/PMC5954790.nxml,\"<ack><sec id=\"\"FPar1\"\"><title>Funding</title><p id=\"\"Par153\"\">This research was supported by Catholic Charities and NIH grants U01 AG006786, P50 AG016574, R01 AG011378, and AG041581. Additional support was provided by the Robert Wood Johnson Foundation, The Elsie and Marvin Dekelboum Family Foundation, The Liston Family Foundation, the Robert H. and Clarice Smith and Abigail van Buren Alzheimer’s Disease Research Program, The GHR Foundation, Foundation Dr. Corinne Schuler (Geneva, Switzerland), and the Mayo Foundation.</p></sec><sec id=\"\"FPar2\"\"><title>Availability of data and materials</title><p id=\"\"Par56\"\">The individual patient data is protected from transfer by our local IRB regulations.</p></sec></ack>\"\n",
      "\n",
      "7 3D_Print_Med/PMC5954791.nxml,\"<ack><title>Acknowledgements</title><p>Not applicable.</p><sec id=\"\"FPar1\"\"><title>Funding</title><p id=\"\"Par44\"\">Not applicable.</p></sec><sec id=\"\"FPar2\"\"><title>Availability of data and materials</title><p id=\"\"Par45\"\">Data sharing not applicable to this article as no datasets were generated or analysed during the current study.</p></sec></ack>\"\n",
      "\n",
      "8 3D_Print_Med/PMC5954792.nxml,\"<ack><title>Acknowledgements</title><p>The authors would like to thank Michel Vong of the University of Edinburgh for his help and support in the operation of the 3D printing and video recording/editing.</p><sec id=\"\"FPar1\"\"><title>Funding</title><p id=\"\"Par55\"\">No funding sources to declare for this study.</p></sec></ack>\"\n",
      "\n",
      "9 3D_Print_Med/PMC5954793.nxml,\"<ack><sec id=\"\"FPar1\"\"><title>Availability of data and materials</title><p id=\"\"Par79\"\">All data used within this Technical Note is included as Additional files <xref ref-type=\"\"media\"\" rid=\"\"MOESM1\"\">1</xref>, <xref ref-type=\"\"media\"\" rid=\"\"MOESM2\"\">2</xref> and <xref ref-type=\"\"media\"\" rid=\"\"MOESM3\"\">3</xref>. Free trial versions of the Materialise software are available from Materialise website.</p></sec></ack>\"\n",
      "\n",
      "10 3D_Print_Med/PMC5954794.nxml,\"<ack><title>Acknowledgements</title><p>The authors would like to thank Dr. Dinghau Huang of Ming Chi University of Technology and Prof. Pi-Hsia Liu of the Chang Gung University of Science and Technology for their arrangement for voluntary participants in the orthosis design exercise, and great advice concerning the interviews.</p><sec id=\"\"FPar1\"\"><title>Funding</title><p id=\"\"Par56\"\">The work described in this paper was supported by the Doctorate Student Grant-in-Aid Program (Graduate School Recommendation, Shannon Fujisawa Campus) 2017 of the Keio University, Japan.</p></sec><sec id=\"\"FPar2\"\"><title>Availability of data and materials</title><p id=\"\"Par57\"\">Data are available by contacting the corresponding author.</p></sec><sec id=\"\"FPar3\"\"><title>Disclaimer</title><p id=\"\"Par58\"\">The conjecture about the modeling process of orthoses in Fig. <xref ref-type=\"\"fig\"\" rid=\"\"Fig1\"\">1</xref> represents the author’s viewpoint, and the description does not reflect the original creators’ methods.</p></sec></ack>\"\n",
      "\n",
      "11 3D_Print_Med/PMC5954795.nxml,\"<ack><title>Acknowledgements</title><p>We thank DSc. Alexandre Colello Bruno for intellectual contribution, Agnelo Bastos, Clésio Fernandes, Carlos Renato, Lourenço Rocha and Sérgio Bueno for technical support.</p><sec id=\"\"FPar1\"\"><title>Funding</title><p id=\"\"Par45\"\">This study was supported by CAPES, FAEPA, FAPESP (2014/50414–9 and 13/18854–6) and CNPq (448806/2014–2 and 140787/2014–3) and FINEP (2613/09).</p></sec><sec id=\"\"FPar2\"\"><title>Availability of data and materials</title><p id=\"\"Par46\"\">Data will be made available on request. The authors have the right to share the data used in this research and will provide it upon request.</p></sec></ack>\"\n",
      "\n"
     ]
    }
   ],
   "source": [
    "with open(f_csv) as FIN:\n",
    "    for k,line in enumerate(FIN):\n",
    "        print (k, line)\n",
    "        if k>10: break"
   ]
  },
  {
   "cell_type": "code",
   "execution_count": null,
   "metadata": {},
   "outputs": [],
   "source": []
  }
 ],
 "metadata": {
  "kernelspec": {
   "display_name": "Python 3",
   "language": "python",
   "name": "python3"
  },
  "language_info": {
   "codemirror_mode": {
    "name": "ipython",
    "version": 3
   },
   "file_extension": ".py",
   "mimetype": "text/x-python",
   "name": "python",
   "nbconvert_exporter": "python",
   "pygments_lexer": "ipython3",
   "version": "3.6.0"
  }
 },
 "nbformat": 4,
 "nbformat_minor": 2
}
